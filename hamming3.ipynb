{
 "cells": [
  {
   "cell_type": "code",
   "execution_count": 107,
   "metadata": {},
   "outputs": [
    {
     "name": "stdout",
     "output_type": "stream",
     "text": [
      "[[0, 0, 0, 1, 1, 1, 1]]\n"
     ]
    }
   ],
   "source": [
    "import numpy as np\n",
    "\n",
    "G = np.array([\n",
    "        [1, 0, 0, 0, 0, 1, 1],\n",
    "        [0, 1, 0, 0, 1, 0, 1],\n",
    "        [0, 0, 1, 0, 1, 1, 0],\n",
    "        [0, 0, 0, 1, 1, 1, 1]\n",
    "    ])\n",
    "\n",
    "H = np.array([\n",
    "        [0, 1, 1, 1, 1, 0, 0],\n",
    "        [1, 0, 1, 1, 0, 1, 0],\n",
    "        [1, 1, 0, 1, 0, 0, 1]\n",
    "    ])\n",
    "\n",
    "N = np.arange(0,16)\n",
    "\n",
    "R = []\n",
    "for i in N:\n",
    "    tmp = ('{:04b}'.format(i))\n",
    "    tmp2 = list(tmp)\n",
    "    for j in range(len(tmp2)):\n",
    "        tmp2[j] = int(tmp2[j])\n",
    "    R.append(list(tmp2))\n",
    "\n",
    "R2 = []\n",
    "\n",
    "for i in R:\n",
    "    tmp = np.array(i)\n",
    "    tmp2 = np.dot(tmp,G)%2\n",
    "    R2.append(list(tmp2))\n",
    "    \n",
    "print(R2[1:2])\n",
    "    \n",
    "for i in R2:\n",
    "    tmp = np.array(i)\n",
    "    tmp2 = np.dot(H,tmp)%2\n",
    "    #print(tmp2)"
   ]
  },
  {
   "cell_type": "code",
   "execution_count": null,
   "metadata": {},
   "outputs": [],
   "source": []
  },
  {
   "cell_type": "code",
   "execution_count": null,
   "metadata": {},
   "outputs": [],
   "source": []
  }
 ],
 "metadata": {
  "kernelspec": {
   "display_name": "Python 3",
   "language": "python",
   "name": "python3"
  },
  "language_info": {
   "codemirror_mode": {
    "name": "ipython",
    "version": 3
   },
   "file_extension": ".py",
   "mimetype": "text/x-python",
   "name": "python",
   "nbconvert_exporter": "python",
   "pygments_lexer": "ipython3",
   "version": "3.8.5"
  }
 },
 "nbformat": 4,
 "nbformat_minor": 4
}

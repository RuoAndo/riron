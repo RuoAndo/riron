{
 "cells": [
  {
   "cell_type": "code",
   "execution_count": 16,
   "metadata": {},
   "outputs": [
    {
     "name": "stdout",
     "output_type": "stream",
     "text": [
      "変更しなかった時の勝率: 0.339\n",
      "変更したときの勝率: 0.6704\n"
     ]
    }
   ],
   "source": [
    "import random\n",
    "\n",
    "# 始めに、ドアの数を決める\n",
    "NUM_DOORS = 3\n",
    "\n",
    "def monty(change):\n",
    "    i = 0\n",
    "    doors =[]\n",
    "    \n",
    "    # 初期化\n",
    "    for i in range(100):\n",
    "        doors.append(0)\n",
    "    \n",
    "    # 当たり(1)のドアを決める\n",
    "    doors[random.randint(0, 100) % NUM_DOORS] = 1\n",
    "    \n",
    "    # ドアを選ぶ\n",
    "    myChoice = random.randint(0, 100) % NUM_DOORS\n",
    "    \n",
    "    # 外れ(0)のドアを開ける\n",
    "    for i in range(NUM_DOORS):\n",
    "        if doors[i] == 0 and i != myChoice:\n",
    "            doors[i] = -1\n",
    "            break\n",
    "            \n",
    "    # 扉を変更する時        \n",
    "    if change == 1:\n",
    "            for i in range(NUM_DOORS):\n",
    "                if doors[i] != -1 and i != myChoice:\n",
    "                    myChoice = i\n",
    "                    break\n",
    "            \n",
    "    # print(doors[myChoice])\n",
    "            \n",
    "    # 当たった場合    \n",
    "    if doors[myChoice] == 1:\n",
    "        result = 1\n",
    "        \n",
    "    # 外れた場合\n",
    "    if doors[myChoice] != 1:\n",
    "        result = 0\n",
    "    \n",
    "    return result\n",
    "\n",
    "# ドアを変更しない: monty(0)\n",
    "counter = 0\n",
    "for i in range(10000):\n",
    "    if(monty(0)==1):\n",
    "        counter = counter + 1\n",
    "\n",
    "print(\"変更しなかった時の勝率: \" + str(counter/10000))\n",
    "        \n",
    "# ドアを変更する: monty(1)\n",
    "counter = 0\n",
    "for i in range(10000):\n",
    "    if(monty(1)==1):\n",
    "        counter = counter + 1\n",
    "\n",
    "print(\"変更したときの勝率: \" + str(counter/10000))\n",
    "        "
   ]
  },
  {
   "cell_type": "code",
   "execution_count": null,
   "metadata": {},
   "outputs": [],
   "source": [
    "\n",
    "\n"
   ]
  },
  {
   "cell_type": "code",
   "execution_count": null,
   "metadata": {},
   "outputs": [],
   "source": []
  }
 ],
 "metadata": {
  "kernelspec": {
   "display_name": "Python 3",
   "language": "python",
   "name": "python3"
  },
  "language_info": {
   "codemirror_mode": {
    "name": "ipython",
    "version": 3
   },
   "file_extension": ".py",
   "mimetype": "text/x-python",
   "name": "python",
   "nbconvert_exporter": "python",
   "pygments_lexer": "ipython3",
   "version": "3.8.5"
  }
 },
 "nbformat": 4,
 "nbformat_minor": 4
}

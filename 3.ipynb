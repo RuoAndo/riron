{
 "cells": [
  {
   "cell_type": "markdown",
   "metadata": {},
   "source": [
    "## 大数の法則"
   ]
  },
  {
   "cell_type": "code",
   "execution_count": null,
   "metadata": {},
   "outputs": [],
   "source": [
    "%matplotlib nbagg\n",
    "\n",
    "import matplotlib.pyplot as plt\n",
    "import matplotlib.animation as animation\n",
    "import numpy as np\n",
    "import random\n",
    "import matplotlib.patches as patches\n",
    "\n",
    "#fig = plt.figure()\n",
    "fig, ax = plt.subplots()\n",
    "\n",
    "value =[]\n",
    "x = []\n",
    "y = []\n",
    "ims = []\n",
    "n = 0\n",
    "\n",
    "c = patches.Circle(xy=(0, 0), radius=100,fill=False)\n",
    "\n",
    "N1 = 100\n",
    "for i in range(N1):\n",
    "    #value.append(random.randint(50, 70))\n",
    "    \n",
    "    xx = (random.randint(-100, 100))\n",
    "    yy = (random.randint(-100, 100))\n",
    "       \n",
    "    x.append(xx)\n",
    "    y.append(yy)\n",
    "\n",
    "    if xx**2+yy**2<=10000: #円の内部に落ちたものをカウント\n",
    "        n=n+1\n",
    "\n",
    "    p=4*n/N1\n",
    "        \n",
    "    text1 = ax.text(-0.5,0.1,\"pi:\" + str(p), size = 35, color = \"green\")        \n",
    "    text2 = ax.text(-0.5,25, str(n)+\":\"+str(N1-n)+\"/\"+str(N1), size = 35, color = \"green\")\n",
    "        \n",
    "    ax.add_patch(c)\n",
    "        \n",
    "    #text1 = ax.text(-0.5,0.1,str(n), size = 15, color = \"green\")\n",
    "\n",
    "    im = plt.scatter(x, y, s=20)\n",
    "    ims.append([im]+[text1]+[text2])\n",
    "    \n",
    "ani = animation.ArtistAnimation(fig, ims, interval=150)\n",
    "#plt.show()\n",
    "ani.save('pi.gif', writer=\"imagemagick\")\n",
    "\n",
    "#print(\"done\")"
   ]
  },
  {
   "cell_type": "markdown",
   "metadata": {},
   "source": [
    "<img src=\"pi.gif\">"
   ]
  },
  {
   "cell_type": "code",
   "execution_count": null,
   "metadata": {},
   "outputs": [],
   "source": []
  }
 ],
 "metadata": {
  "kernelspec": {
   "display_name": "Python 3",
   "language": "python",
   "name": "python3"
  },
  "language_info": {
   "codemirror_mode": {
    "name": "ipython",
    "version": 3
   },
   "file_extension": ".py",
   "mimetype": "text/x-python",
   "name": "python",
   "nbconvert_exporter": "python",
   "pygments_lexer": "ipython3",
   "version": "3.8.5"
  }
 },
 "nbformat": 4,
 "nbformat_minor": 4
}

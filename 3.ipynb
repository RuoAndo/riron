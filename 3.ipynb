{
 "cells": [
  {
   "cell_type": "code",
   "execution_count": null,
   "metadata": {},
   "outputs": [],
   "source": [
    "%matplotlib nbagg\n",
    "\n",
    "import matplotlib.pyplot as plt\n",
    "import matplotlib.animation as animation\n",
    "import numpy as np\n",
    "import random\n",
    "import matplotlib.patches as patches\n",
    "\n",
    "import math\n",
    "\n",
    "fig, ax = plt.subplots()\n",
    "\n",
    "value =[]\n",
    "x = []\n",
    "y = []\n",
    "ims = []\n",
    "n = 0\n",
    "\n",
    "c = patches.Circle(xy=(0, 0), radius=1,fill=False)\n",
    "\n",
    "N1 = 100\n",
    "n = 0\n",
    "counter = 1\n",
    "\n",
    "for i in range(N1):\n",
    "    #value.append(random.randint(50, 70))\n",
    "    \n",
    "    #xx = np.random.rand()\n",
    "    #yy = np.random.rand()\n",
    "    yy = (random.uniform(-1, 1))\n",
    "    xx = (random.uniform(-1, 1))\n",
    "       \n",
    "    x.append(xx)\n",
    "    y.append(yy)\n",
    "\n",
    "    if math.sqrt(xx**2 + yy**2) < 1: #円の内部に落ちたものをカウント\n",
    "        n=n+1\n",
    "\n",
    "    p=4 * float(n/counter)\n",
    "       \n",
    "    text1 = ax.text(-0.5,0.1,\"pi:\" + str(p), size = 20, color = \"green\")        \n",
    "    text2 = ax.text(-0.5,0.3, str(n)+\":\"+str(N1), size = 20, color = \"green\")\n",
    "        \n",
    "    ax.add_patch(c)\n",
    "    im = plt.scatter(x, y, s=10)\n",
    "    ims.append([im]+[text1]+[text2])\n",
    "\n",
    "    counter = counter + 1\n",
    "    \n",
    "ani = animation.ArtistAnimation(fig, ims, interval=150)\n",
    "plt.show()\n",
    "#print(str(n) + \":\" + str(N1) + \":\" + str(p))\n",
    "ani.save('pi28.gif', writer=\"imagemagick\")\n"
   ]
  }
 ],
 "metadata": {
  "kernelspec": {
   "display_name": "Python 3",
   "language": "python",
   "name": "python3"
  },
  "language_info": {
   "codemirror_mode": {
    "name": "ipython",
    "version": 3
   },
   "file_extension": ".py",
   "mimetype": "text/x-python",
   "name": "python",
   "nbconvert_exporter": "python",
   "pygments_lexer": "ipython3",
   "version": "3.8.5"
  }
 },
 "nbformat": 4,
 "nbformat_minor": 4
}
